{
 "cells": [
  {
   "cell_type": "code",
   "execution_count": 46,
   "metadata": {},
   "outputs": [],
   "source": [
    "import numpy as np\n",
    "import qutip as qu\n",
    "import matplotlib as mpl\n",
    "import matplotlib.pyplot as plt\n",
    "import os\n",
    "import csv\n",
    "import sympy as sp"
   ]
  },
  {
   "cell_type": "code",
   "execution_count": 47,
   "metadata": {},
   "outputs": [],
   "source": [
    "#define constants\n",
    "e = 1.602*10**(-19)#C\n",
    "hbar = 1.054*10**(-34)#Js\n",
    "h = hbar*2*np.pi\n",
    "phi0 = hbar/2/e"
   ]
  },
  {
   "cell_type": "markdown",
   "metadata": {},
   "source": [
    "Minimal notebook to obtain the effective qubit-qubit coupling $J$, Eq. (8), with the circuit in Fig. 7(a) and $C_k\\to 0$. \n",
    "\n",
    "The objective is for you to get an idea of the overall workflow. All references to Eqs. are to our paper \"Toolbox for Nonreciprocal dispersive models in cQED\". \n",
    "\n",
    "If so desired, how to get the dispersive shifts, shifted resonator frequency, higher-order nonlinear corrections, and even the exact Hamiltonian can be added without any conceptual difficulties. In the same way the admittance can be added. "
   ]
  },
  {
   "cell_type": "markdown",
   "metadata": {},
   "source": [
    "# Circuit parameters"
   ]
  },
  {
   "cell_type": "markdown",
   "metadata": {},
   "source": [
    "First, choose the circuit parameters, and any random $s$ to get the response somewhere else, in my case with Mathematica. "
   ]
  },
  {
   "cell_type": "code",
   "execution_count": 39,
   "metadata": {},
   "outputs": [
    {
     "name": "stdout",
     "output_type": "stream",
     "text": [
      "/Users/lautarolabarca/Dropbox/SW_NR_BB_quantization/Codes/Simple-examples/Params-files/\n",
      "Lj 8.170445398447482 Cj 124.00937611258065 5.0 Ej/Ec 127.99999999999999\n"
     ]
    }
   ],
   "source": [
    "# paths\n",
    "cwd = os.getcwd()\n",
    "path_params = cwd + '/Params-files/'\n",
    "print(path_params)\n",
    "\n",
    "# define the circuit parameters \n",
    "Ej = 20.0*2*np.pi # Josephson energy (GHz)\n",
    "Lj = phi0**2/Ej/hbar # Josephson inductance (nH)\n",
    "wq = 5.0*2*np.pi # qubit frequency (GHz)\n",
    "Cj = 1/(wq**2*Lj) # qubit capacitance (nF)\n",
    "Ec = e**2/2/Cj/hbar # Charging energy (GHz)\n",
    "Cc = 0.05 * Cj # Coupling capacitance\n",
    "wr = 2*np.pi*6.0 # resonator frequency (GHz)\n",
    "zr = 50.0 # resonator impedance (Ohm)\n",
    "Cr = 1/(wr*zr) # resonator capacitance (nF)\n",
    "Lr = zr/wr # resonator inductance (nH)\n",
    "s = 1.0 # just a dummy variable for the moment\n",
    "print('Lj',Lj,'Cj',Cj*1e6, 1/np.sqrt(Lj*Cj)/2/np.pi, 'Ej/Ec', Ej/Ec)\n",
    "\n",
    "list_params = [Cj,Cc,Cr,Lr,s]\n",
    "name = 'params-file-'+str(1)+'.csv'\n",
    "with open(path_params + name, 'w', newline='') as csvfile:\n",
    "    writer = csv.writer(csvfile)\n",
    "    writer.writerow(list_params)"
   ]
  },
  {
   "cell_type": "markdown",
   "metadata": {},
   "source": [
    "# Load the capacitive matrix"
   ]
  },
  {
   "cell_type": "markdown",
   "metadata": {},
   "source": [
    "The capacitive matrix is obtained from the 0-pole matrix. For the impedance (see Eq. A3), \n",
    "$$ A_0 = \\lim_{s\\to 0}sZ[s]$$\n",
    "\n",
    "The code that follows is agnostic to how the matrix is obtained, simply store it and then load it here. \n",
    "\n",
    "We use this matrix to obtain the capacitance matrix. The diagonal entries correspond to the dressed capacitance the junction sees. \n",
    "\n",
    "The dressed capacitance is used to define the dressed and shifted to account for the lamb shift qubit frequency, Eq. 6"
   ]
  },
  {
   "cell_type": "code",
   "execution_count": 40,
   "metadata": {},
   "outputs": [],
   "source": [
    "# Function to read a CSV file and convert it to a sympy matrix. Used to handle the imaginary part I, mathematica returns it symbolically. \n",
    "def read_csv_to_sympy_matrix(file_path):\n",
    "    with open(file_path, 'r') as csvfile:\n",
    "        reader = csv.reader(csvfile)\n",
    "        matrix = []\n",
    "        for row in reader:\n",
    "            matrix.append([sp.sympify(cell.replace('e', '*10**')) for cell in row])\n",
    "        return sp.Matrix(matrix)\n",
    "\n",
    "# Function to read a CSV file and convert it to a numpy array\n",
    "def read_csv_to_numpy_array(file_path):\n",
    "    with open(file_path, 'r') as csvfile:\n",
    "        reader = csv.reader(csvfile)\n",
    "        matrix = []\n",
    "        for row in reader:\n",
    "            matrix.append([float(cell) for cell in row])\n",
    "        return np.array(matrix)\n",
    "\n",
    "index = 1\n",
    "Path_RM = cwd + \"/Response-matrices/\"\n",
    "Path_A0 = Path_RM + 'A0-'+str(index)+'.csv'\n",
    "A0s = read_csv_to_numpy_array(Path_A0)\n",
    "Cmat = np.linalg.inv(A0s)\n",
    "CJ = Cmat[0,0] # dressed junction capacitance\n",
    "Ec = e**2/2/CJ/hbar # Charging energy (GHz)\n",
    "\n",
    "wj0 = 1/np.sqrt(Lj*CJ)\n",
    "wj = wj0*(1-Ec/wj0/(1-Ec/wj0))"
   ]
  },
  {
   "cell_type": "markdown",
   "metadata": {},
   "source": [
    "# Re-run the Mathematica notebook manually, to get the impedance matrix at the shifted qubit frequency"
   ]
  },
  {
   "cell_type": "markdown",
   "metadata": {},
   "source": [
    "Get the impedance response matrix used in Eqs (5 and 8)."
   ]
  },
  {
   "cell_type": "code",
   "execution_count": 34,
   "metadata": {},
   "outputs": [],
   "source": [
    "# import subprocess\n",
    "\n",
    "# # wolframscript_path = \"/Applications/Mathematica.app/Contents/MacOS/wolframscript\"\n",
    "# # I could add here code to iterate over many different parameters using wolframscript \n",
    "# # Sadly running wolframscript is quite slow, I do not understand the reason for this. \n",
    "# # For the paper I imported the analytical form of the impedance onto python with sympy, but I guess\n",
    "# # that for real circuits that is no go. Hence, the workflow here mimics the situation \n",
    "# # where you simply run your impedance finder somewhere else, \n",
    "# # and then simply load it here to apply the formulas, find the exact Hamiltonian, etc. \n",
    "\n",
    "# mathematica_script = cwd + '/Get-Responses.wls'\n",
    "# wolframscript_path = \"/Applications/Mathematica.app/Contents/MacOS/wolframscript\"\n",
    "# subprocess.run([wolframscript_path, \"-file\", mathematica_script])\n",
    "# subprocess.run([wolframscript_path, \"-file\", mathematica_script])"
   ]
  },
  {
   "cell_type": "code",
   "execution_count": 43,
   "metadata": {},
   "outputs": [],
   "source": [
    "s = wj # the imaginary part is added in the notebook. The frequency is given by Eq. (6). \n",
    "list_params = [Cj,Cc,Cr,Lr,s]\n",
    "# Run the Mathematica Notebook, this I am doin manually, but it can be done automatically if wolframscript is installed\n",
    "list_params = [Cj,Cc,Cr,Lr,s]\n",
    "name = 'params-file-'+str(1)+'.csv'\n",
    "with open(path_params + name, 'w', newline='') as csvfile:\n",
    "    writer = csv.writer(csvfile)\n",
    "    writer.writerow(list_params)"
   ]
  },
  {
   "cell_type": "code",
   "execution_count": 44,
   "metadata": {},
   "outputs": [
    {
     "name": "stdout",
     "output_type": "stream",
     "text": [
      "Z matrix [[0.-2.5838751e+02j 0.+2.4415778e-01j]\n",
      " [0.+2.4415778e-01j 0.-2.5838751e+02j]]\n"
     ]
    }
   ],
   "source": [
    "# Rerun the Mathematica and load the Z matrix\n",
    "Path_Z = Path_RM + 'Z-'+str(index)+'.csv'\n",
    "Z = read_csv_to_sympy_matrix(Path_Z) #the sympy is needed due to how Mathematica treats the imaginary number i\n",
    "Z = np.array(Z).astype(np.complex64)\n",
    "print('Z matrix',Z)"
   ]
  },
  {
   "cell_type": "markdown",
   "metadata": {},
   "source": [
    "# Getting the effective qubit-qubit coupling"
   ]
  },
  {
   "cell_type": "markdown",
   "metadata": {},
   "source": [
    "Direct application of Eq. (8)"
   ]
  },
  {
   "cell_type": "code",
   "execution_count": 45,
   "metadata": {},
   "outputs": [
    {
     "name": "stdout",
     "output_type": "stream",
     "text": [
      "resonator bare frequency wr (GHz)/2pi 6.0\n",
      "dressed junction capacitance CJ 130.20984491820968\n",
      "EJ/Ec 134.39999999999998\n",
      "bare qubit frequency wj0 (GHz)/2pi 4.879500364742666\n",
      "shifted qubit frequency Eq. (6) wj (GHz)/2pi 4.726009859841583\n",
      "effective coupling J Eq. (8) (MHz)/2pi (-2.3780170533758866+0j)\n"
     ]
    }
   ],
   "source": [
    "J = 1j/4*np.sqrt(wj*wj/Lj/Lj)*(Z[0,1]/wj+Z[0,1]/wj)\n",
    "\n",
    "print('resonator bare frequency wr (GHz)/2pi',wr/2/np.pi)\n",
    "print('dressed junction capacitance CJ',CJ*1e6)\n",
    "print('EJ/Ec', Ej/Ec)\n",
    "print('bare qubit frequency wj0 (GHz)/2pi',wj0/2/np.pi)\n",
    "print('shifted qubit frequency Eq. (6) wj (GHz)/2pi',wj/2/np.pi)\n",
    "print('effective coupling J Eq. (8) (MHz)/2pi',J*1e3/2/np.pi)"
   ]
  }
 ],
 "metadata": {
  "kernelspec": {
   "display_name": "simpleBB",
   "language": "python",
   "name": "python3"
  },
  "language_info": {
   "codemirror_mode": {
    "name": "ipython",
    "version": 3
   },
   "file_extension": ".py",
   "mimetype": "text/x-python",
   "name": "python",
   "nbconvert_exporter": "python",
   "pygments_lexer": "ipython3",
   "version": "3.12.6"
  }
 },
 "nbformat": 4,
 "nbformat_minor": 2
}
