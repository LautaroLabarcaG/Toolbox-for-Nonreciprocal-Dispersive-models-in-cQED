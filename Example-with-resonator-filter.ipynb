{
 "cells": [
  {
   "cell_type": "code",
   "execution_count": 1,
   "metadata": {},
   "outputs": [],
   "source": [
    "import numpy as np\n",
    "import matplotlib.pyplot as plt\n",
    "import qutip as qt\n",
    "from numpy import linalg\n",
    "from scipy.linalg import expm\n",
    "from scipy.optimize import fsolve\n",
    "from scipy.special import comb\n",
    "from tqdm import tqdm\n",
    "import itertools\n",
    "\n",
    "#sympy imports\n",
    "import sympy as sp\n",
    "from sympy import Matrix, symbols, sqrt\n",
    "from sympy.physics.control.lti import TransferFunction\n",
    "from sympy.parsing.mathematica import parse_mathematica\n",
    "from sympy import var\n",
    "\n",
    "#define constants\n",
    "e = 1.602*10**(-19)#C\n",
    "hbar = 1.054*10**(-34)#Js\n",
    "h = hbar*2*np.pi\n",
    "phi0 = hbar/2/e\n",
    "np.set_printoptions(precision=7,suppress=True)\n"
   ]
  },
  {
   "cell_type": "markdown",
   "metadata": {},
   "source": [
    "# Set values of parameters and get the relevant matrices from Mathematica"
   ]
  },
  {
   "cell_type": "code",
   "execution_count": 2,
   "metadata": {},
   "outputs": [
    {
     "name": "stdout",
     "output_type": "stream",
     "text": [
      "[50, 43.982297150257104, 0.00045472840883398674, 1.1368210220849668, 0.00015, 9.999999999999999e-05, 9.999999999999999e-06, 2.4999999999999998e-05, 50, 1.0471975511965976]\n",
      "7.0\n"
     ]
    }
   ],
   "source": [
    "#initialize sympy variables\n",
    "Lj, wj, zr, wr, Cj, Cjr, Cr, Lr, Crs, Cc, Cg, R, phi,s = symbols('Lj wj zr wr Cj Cjr Cr Lr Crs Cc Cg R phi s')\n",
    "# Define a function that sets small coefficients to zero\n",
    "precision = 1e-13\n",
    "def set_small_coeffs_to_zero(expr):\n",
    "    return expr.xreplace({n: 0 for n in expr.atoms(sp.Number) if abs(n) < precision})\n",
    "\n",
    "# Assign parameter values.\n",
    "zr_value = 50 #Ohm\n",
    "wr_value = 2*np.pi*7 #GHz\n",
    "Cr_value = 1/(wr_value*zr_value) #nf\n",
    "Lr_value = zr_value/(wr_value) #nH\n",
    "Cj_value = 150*10**(-6) #nF\n",
    "Crs_value = 100*10**(-6) #nF\n",
    "Cjr_value = 10*10**(-6) #nF\n",
    "Cg_value = 25*10**(-6) #nF \n",
    "R_value = 50 #Ohm \n",
    "phi_value = np.pi/3\n",
    "\n",
    "values = [zr_value, wr_value, Cr_value, Lr_value, Cj_value, Crs_value, Cjr_value, Cg_value, R_value, phi_value]\n",
    "print(values)\n",
    "print(wr_value/2/np.pi)\n",
    "# Convert the list to a numpy array\n",
    "values_array = np.array(values,dtype=np.float64)\n",
    "\n",
    "# Save the array to a text file\n",
    "np.savetxt(\"Mathematica-files/values.txt\", values_array)\n",
    "#now run the Mathematica file, then run all. "
   ]
  },
  {
   "cell_type": "code",
   "execution_count": 3,
   "metadata": {},
   "outputs": [
    {
     "name": "stdout",
     "output_type": "stream",
     "text": [
      "27.267721043003593\n"
     ]
    }
   ],
   "source": [
    "with open(\"Mathematica-files/wjchiral.txt\",'r') as file:# Mathematica gives us the frequency of wj that gives chiral dynamics\n",
    "    wjstring = file.read()\n",
    "\n",
    "wj_value = parse_mathematica(wjstring)\n",
    "wj_value = np.float64(wj_value)\n",
    "s_value = 1j*wj_value\n",
    "w_value = wj_value\n",
    "print(wj_value)"
   ]
  },
  {
   "cell_type": "markdown",
   "metadata": {},
   "source": [
    "# Now run all"
   ]
  },
  {
   "cell_type": "markdown",
   "metadata": {},
   "source": [
    "## Loading the series matrix decomposition of Z"
   ]
  },
  {
   "cell_type": "code",
   "execution_count": 4,
   "metadata": {},
   "outputs": [
    {
     "name": "stdout",
     "output_type": "stream",
     "text": [
      "(0.0, 37.68986491681974*I, 40.368972790971895*I, 42.62701105832492*I, 110.32065684833859*I)\n"
     ]
    }
   ],
   "source": [
    "#now we read the output matrices from Mathematica\n",
    "strings = [\"A0\",\"A1\",\"A2\",\"A3\",\"A4\",\"B1\",\"B2\",\"B3\",\"B4\",\"poles\"]\n",
    "\n",
    "list_strings = []\n",
    "for string in strings:\n",
    "    with open(\"Mathematica-files/\"+string+\".txt\",'r') as file:\n",
    "        list_strings.append(file.read())\n",
    "\n",
    "dict_strings = dict(zip(strings,list_strings))\n",
    "\n",
    "A0 = parse_mathematica(dict_strings[\"A0\"])\n",
    "A1 = parse_mathematica(dict_strings[\"A1\"])\n",
    "A2 = parse_mathematica(dict_strings[\"A2\"])\n",
    "A3 = parse_mathematica(dict_strings[\"A3\"])\n",
    "A4 = parse_mathematica(dict_strings[\"A4\"])\n",
    "B1 = parse_mathematica(dict_strings[\"B1\"])\n",
    "B2 = parse_mathematica(dict_strings[\"B2\"])\n",
    "B3 = parse_mathematica(dict_strings[\"B3\"])\n",
    "B4 = parse_mathematica(dict_strings[\"B4\"])\n",
    "poles = parse_mathematica(dict_strings[\"poles\"])\n",
    "print(poles)\n",
    "\n",
    "A0 = Matrix(A0)\n",
    "A1 = Matrix(A1)\n",
    "A2 = Matrix(A2)\n",
    "A3 = Matrix(A3)\n",
    "A4 = Matrix(A4)\n",
    "B1 = Matrix(B1)\n",
    "B2 = Matrix(B2)\n",
    "B3 = Matrix(B3)\n",
    "B4 = Matrix(B4)\n",
    "poles = Matrix(poles)\n",
    "w1, w2, w3, w4 = -1j*poles[1], -1j*poles[2], -1j*poles[3], -1j*poles[4]\n",
    "omegas = [w1,w2,w3,w4]"
   ]
  },
  {
   "cell_type": "markdown",
   "metadata": {},
   "source": [
    "## We use the above to define Z, ZacR, ZacNR, Zdc as sympy matrices"
   ]
  },
  {
   "cell_type": "code",
   "execution_count": 5,
   "metadata": {},
   "outputs": [
    {
     "name": "stdout",
     "output_type": "stream",
     "text": [
      "Matrix([[0.9730103149*s/(s**2 + 12170.64733) + 2.689680158*s/(s**2 + 1817.062072) + 2.450705421*s/(s**2 + 1629.653964) + 1.955644581*s/(s**2 + 1420.525917) + 6250.0/s, 2.689680158*s/(s**2 + 1817.062072) + (85.67802402 - 1.225352711*s)/(s**2 + 1629.653964) + (-0.9778222903*s - 63.8329832)/(s**2 + 1420.525917) + (-0.4865051575*s - 92.96188362)/(s**2 + 12170.64733), 2.689680158*s/(s**2 + 1817.062072) + (63.8329832 - 0.9778222903*s)/(s**2 + 1420.525917) + (92.96188362 - 0.4865051575*s)/(s**2 + 12170.64733) + (-1.225352711*s - 85.67802402)/(s**2 + 1629.653964)], [2.689680158*s/(s**2 + 1817.062072) + (63.8329832 - 0.9778222903*s)/(s**2 + 1420.525917) + (92.96188362 - 0.4865051575*s)/(s**2 + 12170.64733) + (-1.225352711*s - 85.67802402)/(s**2 + 1629.653964), 0.9730103149*s/(s**2 + 12170.64733) + 2.689680158*s/(s**2 + 1817.062072) + 2.450705421*s/(s**2 + 1629.653964) + 1.955644581*s/(s**2 + 1420.525917) + 6250.0/s, 2.689680158*s/(s**2 + 1817.062072) + (85.67802402 - 1.225352711*s)/(s**2 + 1629.653964) + (-0.9778222903*s - 63.8329832)/(s**2 + 1420.525917) + (-0.4865051575*s - 92.96188362)/(s**2 + 12170.64733)], [2.689680158*s/(s**2 + 1817.062072) + (85.67802402 - 1.225352711*s)/(s**2 + 1629.653964) + (-0.9778222903*s - 63.8329832)/(s**2 + 1420.525917) + (-0.4865051575*s - 92.96188362)/(s**2 + 12170.64733), 2.689680158*s/(s**2 + 1817.062072) + (63.8329832 - 0.9778222903*s)/(s**2 + 1420.525917) + (92.96188362 - 0.4865051575*s)/(s**2 + 12170.64733) + (-1.225352711*s - 85.67802402)/(s**2 + 1629.653964), 0.9730103149*s/(s**2 + 12170.64733) + 2.689680158*s/(s**2 + 1817.062072) + 2.450705421*s/(s**2 + 1629.653964) + 1.955644581*s/(s**2 + 1420.525917) + 6250.0/s]])\n"
     ]
    }
   ],
   "source": [
    "#we use those to define the impedance matrix in its Cauer form\n",
    "Z = A0/s + (A1*s+B1)/(s**2+w1**2)+(A2*s+B2)/(s**2+w2**2)+(A3*s+B3)/(s**2+w3**2)+(A4*s+B4)/(s**2+w4**2)\n",
    "print(Z.evalf(10))\n",
    "\n",
    "ZacR = (A1*s)/(s**2+w1**2)+(A2*s)/(s**2+w2**2)+(A3*s)/(s**2+w3**2)+(A4*s)/(s**2+w4**2)\n",
    "ZacNR = B1/(s**2+w1**2)+B2/(s**2+w2**2)+B3/(s**2+w3**2)+B4/(s**2+w4**2)\n",
    "Zdc = A0/s"
   ]
  },
  {
   "cell_type": "markdown",
   "metadata": {},
   "source": [
    "## Transform the above to numpy and obtain the transformer ratios"
   ]
  },
  {
   "cell_type": "code",
   "execution_count": 6,
   "metadata": {},
   "outputs": [
    {
     "name": "stdout",
     "output_type": "stream",
     "text": [
      "wr 42.62701105832492 2\n",
      "[[2.6896802 2.6896802 2.6896802]\n",
      " [2.6896802 2.6896802 2.6896802]\n",
      " [2.6896802 2.6896802 2.6896802]] [[0. 0. 0.]\n",
      " [0. 0. 0.]\n",
      " [0. 0. 0.]]\n",
      "[42.62701105832492, 37.68986491681974, 40.368972790971895, 110.32065684833859]\n"
     ]
    }
   ],
   "source": [
    "A0 = np.array(A0,dtype=np.float64)\n",
    "A1 = np.array(A1,dtype=np.float64)\n",
    "A2 = np.array(A2,dtype=np.float64)\n",
    "A3 = np.array(A3,dtype=np.float64)\n",
    "A4 = np.array(A4,dtype=np.float64)\n",
    "B1 = np.array(B1,dtype=np.float64)\n",
    "B2 = np.array(B2,dtype=np.float64)\n",
    "B3 = np.array(B3,dtype=np.float64)\n",
    "B4 = np.array(B4,dtype=np.float64)\n",
    "poles = np.array(poles,dtype=np.complex128)\n",
    "#one of the B's is going to be zero, let's make that B1. \n",
    "B_mat = [B1,B2,B3,B4]\n",
    "A_mat = [A1,A2,A3,A4]\n",
    "for i in range(4):\n",
    "    if np.all(np.allclose(B_mat[i],np.zeros(3))):\n",
    "        B1_new = B_mat[i]\n",
    "        A1_new = A_mat[i]\n",
    "        wr = omegas[i]\n",
    "        B_mat.pop(i)\n",
    "        A_mat.pop(i)\n",
    "        omegas.pop(i)\n",
    "        print('wr',wr,i)\n",
    "        break\n",
    "\n",
    "omegas = [wr]+omegas\n",
    "B2_new, B3_new, B4_new = B_mat[0], B_mat[1], B_mat[2]\n",
    "A2_new, A3_new, A4_new = A_mat[0], A_mat[1], A_mat[2]\n",
    "B1 = B1_new\n",
    "A1 = A1_new\n",
    "B2, B3, B4 = B2_new, B3_new, B4_new\n",
    "A2, A3, A4 = A2_new, A3_new, A4_new\n",
    "w1,w2,w3,w4 = omegas[0], omegas[1], omegas[2], omegas[3]\n",
    "print(A1,B1)\n",
    "print(omegas)\n"
   ]
  },
  {
   "cell_type": "code",
   "execution_count": 7,
   "metadata": {},
   "outputs": [
    {
     "name": "stdout",
     "output_type": "stream",
     "text": [
      "True (True, True) (True, True) (True, True)\n"
     ]
    }
   ],
   "source": [
    "def get_transformer_ratios_NR(A,B,w):\n",
    "    #we calculate the transformer ratios\n",
    "    #A,B have to be numpy arrays\n",
    "    eigenvalues, eigenvectors = np.linalg.eig(A)\n",
    "    Aeigenvalues = eigenvalues[np.abs(eigenvalues) > precision]\n",
    "    Aeigenvectors = eigenvectors[:, np.abs(eigenvalues) > precision]\n",
    "    \n",
    "    #now we make them orthogonal\n",
    "    lambda1 = Aeigenvectors[:, 0] - np.dot(Aeigenvectors[:, 0], Aeigenvectors[:, 1]) * Aeigenvectors[:, 1]\n",
    "    lambda1norm = np.linalg.norm(lambda1)\n",
    "    lambda1 = lambda1 / lambda1norm\n",
    "    lambda2 = Aeigenvectors[:, 1]\n",
    "    \n",
    "    n1 = np.sqrt(Aeigenvalues[0])*lambda1\n",
    "    n2 = np.sqrt(Aeigenvalues[1])*lambda2\n",
    "    Anlnr = np.outer(n1, n1) + np.outer(n2, n2)\n",
    "    Bnlnr = np.array(w * (np.outer(n1, n2) - np.outer(n2, n1)),dtype=np.float64)#n1 is right and n2 left if the sign is positive.\n",
    "    test_A = np.allclose(Anlnr, A)\n",
    "    test_B = np.allclose(Bnlnr, B)\n",
    "\n",
    "    if test_B:\n",
    "        return (n2,n1), (test_A,test_B) #nl, nr\n",
    "    elif np.allclose(-Bnlnr, B):\n",
    "        test_B = np.allclose(-Bnlnr, B)\n",
    "        return (n1,n2),(test_A,test_B) #nl, nr\n",
    "    else:\n",
    "        print(\"Error\")\n",
    "        return (n1,n2),(test_A,test_B)\n",
    "    \n",
    "def get_transformer_ratios_R(A):\n",
    "    #we calculate the transformer ratios\n",
    "    #A has to be numpy array\n",
    "    eigenvalues, eigenvectors = np.linalg.eig(A)\n",
    "    Aeigenvalues = eigenvalues[np.abs(eigenvalues) > precision]\n",
    "    Aeigenvectors = eigenvectors[:, np.abs(eigenvalues) > precision]\n",
    "    \n",
    "    r = Aeigenvectors[:, 0]*np.sqrt(Aeigenvalues[0])\n",
    "    Ar = np.outer(r, r)\n",
    "    test_A = np.allclose(Ar, A)\n",
    "    return r, test_A\n",
    "\n",
    "r1, test1 = get_transformer_ratios_R(A1)\n",
    "\n",
    "nlnr2, test2 = get_transformer_ratios_NR(A2,B2,w2)\n",
    "nlnr3, test3 = get_transformer_ratios_NR(A3,B3,w3)\n",
    "nlnr4, test4 = get_transformer_ratios_NR(A4,B4,w4)\n",
    "print(test1,test2,test3,test4)"
   ]
  },
  {
   "cell_type": "markdown",
   "metadata": {},
   "source": [
    "### Construct the transformer matrices using the ratios obtained above"
   ]
  },
  {
   "cell_type": "code",
   "execution_count": 8,
   "metadata": {},
   "outputs": [
    {
     "name": "stdout",
     "output_type": "stream",
     "text": [
      "(6, 3) (1, 3)\n",
      "(7, 3)\n"
     ]
    }
   ],
   "source": [
    "R = np.array([r1])\n",
    "N2 = np.array([nlnr2[0],nlnr2[1]])\n",
    "N3 = np.array([nlnr3[0],nlnr3[1]])\n",
    "N4 = np.array([nlnr4[0],nlnr4[1]])\n",
    "NL = np.array([nlnr2[0],nlnr3[0],nlnr4[0]])\n",
    "NR = np.array([nlnr2[1],nlnr3[1],nlnr4[1]])\n",
    "N = np.block([[N2],[N3],[N4]])\n",
    "print(N.shape, R.shape)\n",
    "T = np.block([[R],[N]])\n",
    "print(T.shape)"
   ]
  },
  {
   "cell_type": "markdown",
   "metadata": {},
   "source": [
    "### Check is ok"
   ]
  },
  {
   "cell_type": "code",
   "execution_count": 9,
   "metadata": {},
   "outputs": [
    {
     "name": "stdout",
     "output_type": "stream",
     "text": [
      "True\n"
     ]
    }
   ],
   "source": [
    "A1 = np.dot(R.T,R)\n",
    "A2 = np.outer(NL[0],NL[0])+np.outer(NR[0],NR[0])\n",
    "A3 = np.outer(NL[1],NL[1])+np.outer(NR[1],NR[1])\n",
    "A4 = np.outer(NL[2],NL[2])+np.outer(NR[2],NR[2])\n",
    "\n",
    "B2 = w2*(np.outer(NR[0],NL[0]) - np.outer(NL[0],NR[0]))\n",
    "B3 = w3*(np.outer(NR[1],NL[1]) - np.outer(NL[1],NR[1]))\n",
    "B4 = w4*(np.outer(NR[2],NL[2]) - np.outer(NL[2],NR[2]))\n",
    "\n",
    "ZacRnum = Matrix((A1*s)/(s**2+w1**2)+(A2*s)/(s**2+w2**2)+(A3*s)/(s**2+w3**2)+(A4*s)/(s**2+w4**2))\n",
    "ZacNRnum = Matrix(B1/(s**2+w1**2)+B2/(s**2+w2**2)+B3/(s**2+w3**2)+B4/(s**2+w4**2))\n",
    "Zdcnum = Matrix(A0/s)\n",
    "Zs = Matrix(ZacRnum + ZacNRnum + Zdcnum)\n",
    "Znum = np.array(Zs.subs({s:1j*wj_value}),dtype=np.complex128)\n",
    "Zmat_0 = np.array(Z.subs({s:1j*wj_value}),dtype=np.complex128)\n",
    "test5 = np.allclose(Znum,Zmat_0)\n",
    "print(np.allclose(Znum,Zmat_0))\n",
    "# print(R,'\\n',N)"
   ]
  },
  {
   "cell_type": "markdown",
   "metadata": {},
   "source": [
    "## Transformer ratios tests. Should all be True. "
   ]
  },
  {
   "cell_type": "code",
   "execution_count": 10,
   "metadata": {},
   "outputs": [
    {
     "name": "stdout",
     "output_type": "stream",
     "text": [
      "True\n"
     ]
    }
   ],
   "source": [
    "#we put all tests together to be sure\n",
    "tests = [test1,test2[0],test2[1],test3[0],test3[1],test4[0],test4[1],test5]\n",
    "all_tests = all(tests)\n",
    "print(all_tests)"
   ]
  },
  {
   "cell_type": "markdown",
   "metadata": {},
   "source": [
    "## Obtaining Lj to use in the linear sector definition"
   ]
  },
  {
   "cell_type": "code",
   "execution_count": 11,
   "metadata": {},
   "outputs": [
    {
     "name": "stdout",
     "output_type": "stream",
     "text": [
      "Ec/h (GHz): 0.12110290635994209\n",
      "EJ/h (GHz): 20.571065897845546\n",
      "Ej/Ec: 169.86434525942934\n",
      "wj0/wj: 1.0286833254445371\n",
      "zj: 222.8175911441535\n"
     ]
    }
   ],
   "source": [
    "# from Eq(6) in the paper, and appendix C. \n",
    "CJI = A0\n",
    "CJmat = np.linalg.inv(CJI)\n",
    "Cj_value = CJmat[0,0]\n",
    "Ec = e**2/2/Cj_value/hbar\n",
    "\n",
    "def get_Lj_value(Lj):# we solve Eq(6) for Lj\n",
    "    wj = 1/np.sqrt(Lj*Cj_value)\n",
    "    return wj*(1-Ec/wj/(1-Ec/wj))-wj_value\n",
    "\n",
    "Lj_value = fsolve(get_Lj_value, 9)[0]\n",
    "wj0 = 1/np.sqrt(Lj_value*Cj_value)\n",
    "zj_value = np.sqrt(Lj_value/Cj_value)\n",
    "#check Ej/Ec\n",
    "Ej = phi0**2/Lj_value/hbar\n",
    "print('Ec/h (GHz):',Ec/2/np.pi)\n",
    "print('EJ/h (GHz):',Ej/2/np.pi)#GHz\n",
    "print('Ej/Ec:',Ej/Ec)\n",
    "print('wj0/wj:',wj0/wj_value)\n",
    "print('zj:',zj_value)"
   ]
  },
  {
   "cell_type": "markdown",
   "metadata": {},
   "source": [
    "## Build the exact linear Hamiltonian"
   ]
  },
  {
   "cell_type": "code",
   "execution_count": 12,
   "metadata": {},
   "outputs": [],
   "source": [
    "#we use the results in appendix D.\n",
    "# Get CJ\n",
    "CJ = np.linalg.inv(CJI)\n",
    "wr = np.float64(w1)#reciprocal pole\n",
    "OmegaNR = np.array(np.diag(omegas[1:]),dtype=np.float64)\n",
    "\n",
    "#now the HJ, HI, K\n",
    "zero3 = np.zeros((3,3)) \n",
    "zero13 = np.zeros((1,3))\n",
    "zero23 = np.zeros((2,3))\n",
    "zero16 = np.zeros((1,6))\n",
    "zero36 = np.zeros((3,6))\n",
    "zero6 = np.zeros((6,6))\n",
    "zero26 = np.zeros((2,6))\n",
    "I6 = np.eye(6)\n",
    "I3 = np.eye(3)\n",
    "HJ = np.block([[zero3,zero3],[zero3, CJI+np.dot(T.T,T)]])#we will later add the nonlinear potential in the photon basis\n",
    "HI = np.block([[w1,0,zero16],[0,w1,zero16],[zero23.T,OmegaNR,zero3],[zero23.T,zero3,OmegaNR]])\n",
    "K = np.block([[zero13.T,zero13.T,zero3,zero3],[zero13.T,R.T*np.sqrt(wr),np.dot(NR.T,np.sqrt(OmegaNR)),np.dot(NL.T,np.sqrt(OmegaNR))]])\n",
    "H = np.block([[HJ,K],[K.T,HI]])\n",
    "JJ = np.block([[zero3,I3],[-I3,zero3]])\n",
    "JR = np.array([[0,1],[-1,0]])\n",
    "JNR = np.block([[zero3,I3],[-I3,zero3]])\n",
    "J = np.block([[JJ,zero26.T,zero6],[zero26,JR,zero26],[zero6,zero26.T,JNR]])\n",
    "H = np.array(H,dtype=np.float64)"
   ]
  },
  {
   "cell_type": "code",
   "execution_count": 13,
   "metadata": {},
   "outputs": [
    {
     "name": "stdout",
     "output_type": "stream",
     "text": [
      "HJ: \n",
      " [[ 0.         0.         0.         0.         0.         0.       ]\n",
      " [ 0.         0.         0.         0.         0.         0.       ]\n",
      " [ 0.         0.         0.         0.         0.         0.       ]\n",
      " [ 0.         0.         0.        28.0860636 -0.        -0.       ]\n",
      " [ 0.         0.         0.        -0.        28.0860636 -0.       ]\n",
      " [ 0.         0.         0.        -0.        -0.        28.0860636]]\n",
      "HI: \n",
      " [[42.62701105832492 0 0 0 0 0 0 0]\n",
      " [0 37.68986491681974 0 0 0 0 0 0]\n",
      " [0 0 40.368972790971895 0 0 0 0 0]\n",
      " [0 0 0 110.32065684833859 0 0 0 0]\n",
      " [0 0 0 0 42.62701105832492 0 0 0]\n",
      " [0 0 0 0 0 37.68986491681974 0 0]\n",
      " [0 0 0 0 0 0 40.368972790971895 0]\n",
      " [0 0 0 0 0 0 0 110.32065684833859]]\n",
      "K: \n",
      " [[ 0.         0.7173284  0.5746045 -0.0278167  0.661686   0.0250868\n",
      "   0.6657573  0.2095831]\n",
      " [ 0.         0.7173284 -0.2655764 -0.5626544 -0.1493387 -0.5101655\n",
      "  -0.3569686 -0.6778284]\n",
      " [ 0.         0.7173284 -0.309028   0.590471  -0.5123473  0.4850787\n",
      "  -0.3087887  0.4682453]]\n"
     ]
    }
   ],
   "source": [
    "#we rescale with the junctions impedance to have H in dimensions GHz, and rearrange the inner modes structure\n",
    "LJ = np.diag([Lj_value,Lj_value,Lj_value])\n",
    "LJI = np.linalg.inv(LJ)\n",
    "CJdiag = np.diag([CJ[0,0],CJ[1,1],CJ[2,2]])\n",
    "CJdiagI = np.linalg.inv(CJdiag)\n",
    "ZJ = np.diag([zj_value,zj_value,zj_value])\n",
    "ZJI = np.linalg.inv(ZJ)\n",
    "Omega_J = np.sqrt(np.dot(LJI,CJdiagI))\n",
    "TZ = np.dot(T,np.sqrt(ZJI))\n",
    "HJ = np.block([[zero3,zero3],[zero3, Omega_J+np.dot(TZ.T,TZ)]])\n",
    "HI = np.diag([wr,w2,w3,w4,wr,w2,w3,w4])\n",
    "RZ = np.dot(R,np.sqrt(ZJI))\n",
    "NLZ = np.dot(NL,np.sqrt(ZJI))\n",
    "NRZ = np.dot(NR,np.sqrt(ZJI))\n",
    "K = np.block([[zero13.T,zero13.T,zero3,zero3],[zero13.T,RZ.T*np.sqrt(wr),np.dot(NRZ.T,np.sqrt(OmegaNR)),np.dot(NLZ.T,np.sqrt(OmegaNR))]])\n",
    "\n",
    "H = np.array(np.block([[HJ,K],[K.T,HI]]),dtype=np.float64)\n",
    "zero68 = np.zeros((6,8))\n",
    "zero4 = np.zeros((4,4))\n",
    "I4 = np.eye(4) \n",
    "JI = np.block([[zero4,I4],[-I4,zero4]])\n",
    "J = np.block([[JJ,zero68],[zero68.T,JI]])\n",
    "print('HJ:','\\n',HJ)\n",
    "print('HI:','\\n',HI)\n",
    "print('K:','\\n',K[3:6,:])"
   ]
  },
  {
   "cell_type": "code",
   "execution_count": 14,
   "metadata": {},
   "outputs": [
    {
     "name": "stdout",
     "output_type": "stream",
     "text": [
      "[[  0.          0.          0.          0.          0.          0.\n",
      "    0.          0.          0.          0.          0.          0.\n",
      "    0.          0.       ]\n",
      " [  0.          0.          0.          0.          0.          0.\n",
      "    0.          0.          0.          0.          0.          0.\n",
      "    0.          0.       ]\n",
      " [  0.          0.          0.          0.          0.          0.\n",
      "    0.          0.          0.          0.          0.          0.\n",
      "    0.          0.       ]\n",
      " [  0.          0.          0.         42.6270111   0.          0.\n",
      "    0.          0.          0.          0.          0.          0.\n",
      "    0.          0.       ]\n",
      " [  0.          0.          0.          0.         37.6898649   0.\n",
      "    0.          0.5746045  -0.2655764  -0.309028    0.          0.\n",
      "    0.          0.       ]\n",
      " [  0.          0.          0.          0.          0.         40.3689728\n",
      "    0.         -0.0278167  -0.5626544   0.590471    0.          0.\n",
      "    0.          0.       ]\n",
      " [  0.          0.          0.          0.          0.          0.\n",
      "  110.3206568   0.661686   -0.1493387  -0.5123473   0.          0.\n",
      "    0.          0.       ]\n",
      " [  0.          0.          0.          0.          0.5746045  -0.0278167\n",
      "    0.661686   28.0860636  -0.         -0.          0.7173284   0.0250868\n",
      "    0.6657573   0.2095831]\n",
      " [  0.          0.          0.          0.         -0.2655764  -0.5626544\n",
      "   -0.1493387  -0.         28.0860636  -0.          0.7173284  -0.5101655\n",
      "   -0.3569686  -0.6778284]\n",
      " [  0.          0.          0.          0.         -0.309028    0.590471\n",
      "   -0.5123473  -0.         -0.         28.0860636   0.7173284   0.4850787\n",
      "   -0.3087887   0.4682453]\n",
      " [  0.          0.          0.          0.          0.          0.\n",
      "    0.          0.7173284   0.7173284   0.7173284  42.6270111   0.\n",
      "    0.          0.       ]\n",
      " [  0.          0.          0.          0.          0.          0.\n",
      "    0.          0.0250868  -0.5101655   0.4850787   0.         37.6898649\n",
      "    0.          0.       ]\n",
      " [  0.          0.          0.          0.          0.          0.\n",
      "    0.          0.6657573  -0.3569686  -0.3087887   0.          0.\n",
      "   40.3689728   0.       ]\n",
      " [  0.          0.          0.          0.          0.          0.\n",
      "    0.          0.2095831  -0.6778284   0.4682453   0.          0.\n",
      "    0.        110.3206568]]\n"
     ]
    }
   ],
   "source": [
    "# Finally we rearrange in flux vs charge sectors\n",
    "#first we reshape the Hamiltonian to flux-charge separation\n",
    "Omega_JQ = Omega_J+np.dot(TZ.T,TZ)\n",
    "Kjr = RZ.T*np.sqrt(wr)\n",
    "Kjnr_qphi = np.dot(NRZ.T,np.sqrt(OmegaNR))\n",
    "Kjnr_qq = np.dot(NLZ.T,np.sqrt(OmegaNR))\n",
    "H = np.block([[zero3,zero13.T,zero3,zero3,zero13.T,zero3],\n",
    "              [zero13,wr,zero13,zero13,0,zero13],\n",
    "              [zero3,zero13.T,OmegaNR,Kjnr_qphi.T,zero13.T,zero3],\n",
    "              [zero3,zero13.T,Kjnr_qphi,Omega_JQ,Kjr,Kjnr_qq],\n",
    "              [zero13,0,zero13,Kjr.T,wr,zero13],\n",
    "              [zero3,zero13.T,zero3,Kjnr_qq.T,zero13.T,OmegaNR]])\n",
    "\n",
    "H = H\n",
    "#we also have to reshape J\n",
    "zero7 = np.zeros((7,7))\n",
    "I7 = np.eye(7)\n",
    "J = np.block([[zero7,I7],[-I7,zero7]])\n",
    "print(H)"
   ]
  },
  {
   "cell_type": "markdown",
   "metadata": {},
   "source": [
    "## Construct the exact quantum Hamiltonian in the N-photon subspace"
   ]
  },
  {
   "cell_type": "markdown",
   "metadata": {},
   "source": [
    "### Construct the anhilation and creation operators"
   ]
  },
  {
   "cell_type": "code",
   "execution_count": 15,
   "metadata": {},
   "outputs": [
    {
     "name": "stdout",
     "output_type": "stream",
     "text": [
      "{'0': 0, '1': 0, '2': 1, '3': 0, '4': 0, '5': 0, '6': 2}\n"
     ]
    }
   ],
   "source": [
    "# A simple way will be using dictionaries to store the states and construct the operators\n",
    "def state_dict(number_of_excitations_on_each_site):\n",
    "    state = {}\n",
    "    for i in range(len(number_of_excitations_on_each_site)):\n",
    "        state[str(i)] = number_of_excitations_on_each_site[i]\n",
    "    return state\n",
    "\n",
    "# Binary representation of balls (the photons, represented by a 0) and cells (represented by 1) for the states\n",
    "def state_from_binary(binary):\n",
    "    state = state_dict([0]*7)\n",
    "    counter_position = 0\n",
    "    counter_photon = 0\n",
    "    for i in range(len(binary)):\n",
    "        digit_i = binary[i]\n",
    "        if digit_i ==1:\n",
    "            state[str(counter_position)] = counter_photon\n",
    "            counter_position+=1\n",
    "            counter_photon = 0\n",
    "        else:\n",
    "            counter_photon+=1\n",
    "    state[str(counter_position)] = counter_photon\n",
    "    return state\n",
    "\n",
    "binary = [1,1,0,1,1,1,1,0,0]\n",
    "print(state_from_binary(binary))"
   ]
  },
  {
   "cell_type": "code",
   "execution_count": 16,
   "metadata": {},
   "outputs": [
    {
     "name": "stdout",
     "output_type": "stream",
     "text": [
      "330\n"
     ]
    }
   ],
   "source": [
    "# now simply doing the combinations of how many zeros in binary of n+m-1 digits we can get all states\n",
    "binary_7 = [1]*7\n",
    "binary_8 = [1]*8\n",
    "binary_9 = [1]*9\n",
    "binary_10 = [1]*10 \n",
    "binary_11 = [1]*11 \n",
    "\n",
    "comb_1_photon = list(itertools.combinations(range(7), 1))\n",
    "comb_2_photon = list(itertools.combinations(range(8), 2))\n",
    "comb_3_photon = list(itertools.combinations(range(9), 3))\n",
    "comb_4_photon = list(itertools.combinations(range(10), 4))\n",
    "comb_5_photon = list(itertools.combinations(range(11), 5))\n",
    "\n",
    "all_states = [state_dict([0]*7)]\n",
    "for i in comb_1_photon:\n",
    "    binary = binary_7.copy()\n",
    "    binary[i[0]] = 0\n",
    "    state = state_from_binary(binary)\n",
    "    all_states.append(state)\n",
    "\n",
    "for i,j in comb_2_photon:\n",
    "    binary = binary_8.copy()\n",
    "    binary[i] = 0\n",
    "    binary[j] = 0\n",
    "    state = state_from_binary(binary)\n",
    "    all_states.append(state)\n",
    "\n",
    "for i,j,k in comb_3_photon:\n",
    "    binary = binary_9.copy()\n",
    "    binary[i] = 0\n",
    "    binary[j] = 0\n",
    "    binary[k] = 0\n",
    "    state = state_from_binary(binary)\n",
    "    all_states.append(state)\n",
    "\n",
    "for i,j,k,l in comb_4_photon:\n",
    "    binary = binary_10.copy()\n",
    "    binary[i] = 0\n",
    "    binary[j] = 0\n",
    "    binary[k] = 0\n",
    "    binary[l] = 0\n",
    "    state = state_from_binary(binary)\n",
    "    all_states.append(state)\n",
    "\n",
    "# # one can go to the 5 photon subspace to check convergence\n",
    "# for i,j,k,l,m in comb_5_photon:\n",
    "#     binary = binary_11.copy()\n",
    "#     binary[i] = 0\n",
    "#     binary[j] = 0\n",
    "#     binary[k] = 0\n",
    "#     binary[l] = 0\n",
    "#     binary[m] = 0\n",
    "#     state = state_from_binary(binary)\n",
    "#     all_states.append(state)\n",
    "\n",
    "print(len(all_states))\n",
    "total_space = len(all_states)"
   ]
  },
  {
   "cell_type": "code",
   "execution_count": 17,
   "metadata": {},
   "outputs": [
    {
     "name": "stdout",
     "output_type": "stream",
     "text": [
      "[[0. 0. 0. ... 0. 0. 0.]\n",
      " [0. 1. 0. ... 0. 0. 0.]\n",
      " [0. 0. 1. ... 0. 0. 0.]\n",
      " ...\n",
      " [0. 0. 0. ... 4. 0. 0.]\n",
      " [0. 0. 0. ... 0. 4. 0.]\n",
      " [0. 0. 0. ... 0. 0. 4.]]\n"
     ]
    }
   ],
   "source": [
    "# Define lower and increasing operations to construct a_i for all i from 0 to 6. \n",
    "\n",
    "def lower_operation(state_entry, i):\n",
    "    state = state_entry.copy()\n",
    "    if state[str(i)] == 0:\n",
    "        return 0\n",
    "    else:\n",
    "        state[str(i)] = state[str(i)]-1\n",
    "        return state\n",
    "\n",
    "def increase_operation(state_entry,i):\n",
    "    state = state_entry.copy()\n",
    "    state[str(i)] = state[str(i)]+1\n",
    "    return state\n",
    "\n",
    "def is_state_zero(state):\n",
    "    if state==0:\n",
    "        return True\n",
    "    return False\n",
    "\n",
    "def check_two_states_equal(state_j,state_k):\n",
    "    if is_state_zero(state_j):\n",
    "        return False\n",
    "    elif is_state_zero(state_k):\n",
    "        return False\n",
    "    else:\n",
    "        for i in range(len(state_j.keys())):\n",
    "            if state_j[str(i)] != state_k[str(i)]:\n",
    "                return False\n",
    "    return True\n",
    "\n",
    "all_a = []\n",
    "for i in range(7):\n",
    "    a_i = 0*np.eye(total_space)\n",
    "    for j in range(total_space): #we will get the matrix elements <j|a_i|k>, so a_i acts on |k>\n",
    "        for k in range(total_space):\n",
    "            state_j = all_states[j].copy()\n",
    "            state_k = all_states[k].copy()\n",
    "            occupation_i_k = state_k[str(i)]\n",
    "            a_i_over_k = lower_operation(state_k,i)\n",
    "            if a_i_over_k == 0:\n",
    "                a_i[j,k] = 0\n",
    "            else:\n",
    "                if check_two_states_equal(a_i_over_k,state_j):\n",
    "                    a_i[j,k] = np.sqrt(occupation_i_k)\n",
    "                else:\n",
    "                    a_i[j,k] = 0\n",
    "\n",
    "    non_zero_indices = np.nonzero(a_i)\n",
    "    all_a.append(a_i)\n",
    "\n",
    "all_a_dag = []\n",
    "for i in range(7):\n",
    "    a_i = 0*np.eye(total_space)\n",
    "    for j in range(total_space): #we will get the matrix elements <j|adag_i|k>, so adag_i acts on |k>\n",
    "        for k in range(total_space):\n",
    "            state_j = all_states[j].copy()\n",
    "            state_k = all_states[k].copy()\n",
    "            occupation_i_k = state_k[str(i)]\n",
    "            a_i_over_k = increase_operation(state_k,i)\n",
    "            if check_two_states_equal(a_i_over_k,state_j):\n",
    "                a_i[j,k] = np.sqrt(occupation_i_k+1)\n",
    "            else:\n",
    "                a_i[j,k] = 0\n",
    "\n",
    "    non_zero_indices = np.nonzero(a_i)\n",
    "    all_a_dag.append(a_i)\n",
    "\n",
    "total_N = sum([np.dot(a_dag,a) for a_dag,a in zip(all_a_dag,all_a)])#this is the total number operator, can be used to check all is good.\n",
    "print(total_N)"
   ]
  },
  {
   "cell_type": "code",
   "execution_count": 18,
   "metadata": {},
   "outputs": [],
   "source": [
    "phi_ops, q_ops = [], []\n",
    "for i in range(7):\n",
    "    phi_ops.append(((all_a_dag[i]+all_a[i])/np.sqrt(2)).copy())\n",
    "    q_ops.append((1j*(all_a_dag[i]-all_a[i])/np.sqrt(2)).copy())\n"
   ]
  },
  {
   "cell_type": "markdown",
   "metadata": {},
   "source": [
    "### Now construct the N-photon subspace exact Hamiltonian"
   ]
  },
  {
   "cell_type": "code",
   "execution_count": 19,
   "metadata": {},
   "outputs": [
    {
     "name": "stdout",
     "output_type": "stream",
     "text": [
      "Ej 129.25181900236618 Ejc^2 28.04984995981092 1/sqrt(LjCj) 28.04984995981092 Ejc^4/24 0.2536373339658444 Ec/3 0.2536373339658445\n"
     ]
    }
   ],
   "source": [
    "#now we can construct the Hamiltonian in the 0, 1, 2, 3 photon subspace\n",
    "c = np.sqrt(zj_value)*np.sqrt(hbar)/phi0 # the rescaling constant for the flux inside the cosine\n",
    "\n",
    "\n",
    "\n",
    "print('Ej',Ej,'Ejc^2',Ej*c**2,'1/sqrt(LjCj)',1/np.sqrt(Lj_value*Cj_value),'Ejc^4/24',Ej*c**4/24,'Ec/3',Ec/3)\n",
    "\n",
    "Hexact_l = 0*np.eye(total_space,dtype=np.complex128)\n",
    "Hexact_nl = 0*np.eye(total_space,dtype=np.complex128)\n",
    "\n",
    "from scipy.linalg import expm\n",
    "\n",
    "for i in range(7):\n",
    "    phi_i = phi_ops[i].copy()\n",
    "    q_i = q_ops[i].copy()\n",
    "    if i<3:\n",
    "        cos_i = -c**2*np.dot(phi_i,phi_i)/2+c**4*np.dot(np.dot(phi_i,phi_i),np.dot(phi_i,phi_i))/24 #higher orders can be added but won't change the results in the low photon regime.\n",
    "        Hexact_nl+= -Ej*cos_i\n",
    "    \n",
    "    for j in range(7):\n",
    "        phi_j = phi_ops[j].copy()\n",
    "        q_j = q_ops[j].copy()\n",
    "        Hexact_l+= H[i,j]*np.dot(phi_i,phi_j)+H[i+7,j+7]*np.dot(q_i,q_j)+H[i+7,j]*np.dot(q_i,phi_j)+H[i,j+7]*np.dot(phi_i,q_j)\n",
    "\n",
    "Hexact = qt.Qobj(Hexact_l/2+Hexact_nl)"
   ]
  },
  {
   "cell_type": "markdown",
   "metadata": {},
   "source": [
    "### Construct the operators"
   ]
  },
  {
   "cell_type": "code",
   "execution_count": 20,
   "metadata": {},
   "outputs": [
    {
     "name": "stdout",
     "output_type": "stream",
     "text": [
      "56\n"
     ]
    }
   ],
   "source": [
    "def state_from_binary(binary):\n",
    "    state = state_dict([0]*3)#changed from 7 to 3\n",
    "    counter_position = 0\n",
    "    counter_photon = 0\n",
    "    for i in range(len(binary)):\n",
    "        digit_i = binary[i]\n",
    "        if digit_i ==1:\n",
    "            state[str(counter_position)] = counter_photon\n",
    "            counter_position+=1\n",
    "            counter_photon = 0\n",
    "        else:\n",
    "            counter_photon+=1\n",
    "    state[str(counter_position)] = counter_photon\n",
    "    return state\n",
    "\n",
    "# now simply doing the combinations of how many zeros in binary of n+m-1 digits we can get all states\n",
    "binary_3 = [1]*3\n",
    "binary_4 = [1]*4\n",
    "binary_5 = [1]*5\n",
    "binary_6 = [1]*6 \n",
    "binary_7 = [1]*7 \n",
    "\n",
    "comb_1_photon = list(itertools.combinations(range(3), 1))\n",
    "comb_2_photon = list(itertools.combinations(range(4), 2))\n",
    "comb_3_photon = list(itertools.combinations(range(5), 3))\n",
    "comb_4_photon = list(itertools.combinations(range(6), 4))\n",
    "comb_5_photon = list(itertools.combinations(range(7), 5))\n",
    "\n",
    "all_states_eff = [state_dict([0]*3)]\n",
    "for i in comb_1_photon:\n",
    "    binary = binary_3.copy()\n",
    "    binary[i[0]] = 0\n",
    "    state = state_from_binary(binary)\n",
    "    all_states_eff.append(state)\n",
    "\n",
    "for i,j in comb_2_photon:\n",
    "    binary = binary_4.copy()\n",
    "    binary[i] = 0\n",
    "    binary[j] = 0\n",
    "    state = state_from_binary(binary)\n",
    "    all_states_eff.append(state)\n",
    "\n",
    "for i,j,k in comb_3_photon:\n",
    "    binary = binary_5.copy()\n",
    "    binary[i] = 0\n",
    "    binary[j] = 0\n",
    "    binary[k] = 0\n",
    "    state = state_from_binary(binary)\n",
    "    all_states_eff.append(state)\n",
    "\n",
    "for i,j,k,l in comb_4_photon:\n",
    "    binary = binary_6.copy()\n",
    "    binary[i] = 0\n",
    "    binary[j] = 0\n",
    "    binary[k] = 0\n",
    "    binary[l] = 0\n",
    "    state = state_from_binary(binary)\n",
    "    all_states_eff.append(state)\n",
    "\n",
    "# one can go to the 5 photon subspace to check convergence\n",
    "for i,j,k,l,m in comb_5_photon:\n",
    "    binary = binary_7.copy()\n",
    "    binary[i] = 0\n",
    "    binary[j] = 0\n",
    "    binary[k] = 0\n",
    "    binary[l] = 0\n",
    "    binary[m] = 0\n",
    "    state = state_from_binary(binary)\n",
    "    all_states_eff.append(state)\n",
    "\n",
    "print(len(all_states_eff))\n",
    "total_space_eff = len(all_states_eff)"
   ]
  },
  {
   "cell_type": "code",
   "execution_count": 21,
   "metadata": {},
   "outputs": [],
   "source": [
    "all_a_eff = []\n",
    "for i in range(3):#changed 7 to 3\n",
    "    a_i = 0*np.eye(total_space_eff)\n",
    "    for j in range(total_space_eff): #we will get the matrix elements <j|a_i|k>, so a_i acts on |k>\n",
    "        for k in range(total_space_eff):\n",
    "            state_j = all_states[j].copy()\n",
    "            state_k = all_states[k].copy()\n",
    "            occupation_i_k = state_k[str(i)]\n",
    "            a_i_over_k = lower_operation(state_k,i)\n",
    "            if a_i_over_k == 0:\n",
    "                a_i[j,k] = 0\n",
    "            else:\n",
    "                if check_two_states_equal(a_i_over_k,state_j):\n",
    "                    a_i[j,k] = np.sqrt(occupation_i_k)\n",
    "                else:\n",
    "                    a_i[j,k] = 0\n",
    "\n",
    "    non_zero_indices = np.nonzero(a_i)\n",
    "    all_a_eff.append(a_i)\n",
    "\n",
    "all_a_dag_eff = []\n",
    "for i in range(3):\n",
    "    a_i = 0*np.eye(total_space_eff)\n",
    "    for j in range(total_space_eff): #we will get the matrix elements <j|adag_i|k>, so adag_i acts on |k>\n",
    "        for k in range(total_space_eff):\n",
    "            state_j = all_states[j].copy()\n",
    "            state_k = all_states[k].copy()\n",
    "            occupation_i_k = state_k[str(i)]\n",
    "            a_i_over_k = increase_operation(state_k,i)\n",
    "            if check_two_states_equal(a_i_over_k,state_j):\n",
    "                a_i[j,k] = np.sqrt(occupation_i_k+1)\n",
    "            else:\n",
    "                a_i[j,k] = 0\n",
    "\n",
    "    non_zero_indices = np.nonzero(a_i)\n",
    "    all_a_dag_eff.append(a_i)\n",
    "\n",
    "total_N_eff = sum([np.dot(a_dag,a) for a_dag,a in zip(all_a_dag_eff,all_a_eff)])#this is the total number operator, can be used to check all is good."
   ]
  },
  {
   "cell_type": "markdown",
   "metadata": {},
   "source": [
    "### Now the effective Hamiltonian"
   ]
  },
  {
   "cell_type": "code",
   "execution_count": 22,
   "metadata": {},
   "outputs": [],
   "source": [
    "#define the Z matrices at frequency wj_value\n",
    "Zwj = np.array(Zs.subs(s,1j*wj_value),dtype=np.complex128)\n",
    "ZacRwj = np.array(ZacRnum.subs(s,1j*wj_value),dtype=np.complex128)\n",
    "ZacNRwj = np.array(ZacNRnum.subs(s,1j*wj_value),dtype=np.complex128)\n",
    "Zdcwj = np.array(Zdcnum.subs(s,1j*wj_value),dtype=np.complex128)\n",
    "\n",
    "#rescale it following Eqs C58\n",
    "Zwj = np.dot(np.dot(np.sqrt(CJdiag),Zwj),np.sqrt(CJdiag))\n",
    "ZacR_wj = np.dot(np.dot(np.sqrt(CJdiag),ZacRwj),np.sqrt(CJdiag))\n",
    "ZacNR_wj = np.dot(np.dot(np.sqrt(CJdiag),ZacNRwj),np.sqrt(CJdiag))\n",
    "Zdc_wj = np.dot(np.dot(np.sqrt(CJdiag),Zdcwj),np.sqrt(CJdiag))\n",
    "\n",
    "def J_ij_paper(i,j):#Eq 8 simplified by the symmetry\n",
    "    return (1j/2)*wj_value**2*Zwj[i,j]\n",
    "\n",
    "delta_i = -Ec*(wj0/wj_value)**2#anharmonicity defined above Eq 7\n",
    "wi = wj_value+J_ij_paper(0,0)#Eq 5\n",
    "\n",
    "Heff = 0*np.eye(total_space_eff,dtype=np.complex128)\n",
    "for i in range(3):\n",
    "    adagi = all_a_dag_eff[i].copy()\n",
    "    ai = all_a_eff[i].copy()\n",
    "    phi_i = (adagi+ai).copy()/np.sqrt(2)\n",
    "    ni = np.dot(adagi,ai)\n",
    "    Heff+= (wi-delta_i/2)*ni+(delta_i/2)*np.dot(ni,ni)\n",
    "\n",
    "for i in range(3):\n",
    "    for j in range(3):\n",
    "        if i!=j:\n",
    "            adagi,ai = all_a_dag_eff[i].copy(),all_a_eff[i].copy()\n",
    "            adagj,aj = all_a_dag_eff[j].copy(),all_a_eff[j].copy()\n",
    "            Heff+= J_ij_paper(i,j)*np.dot(ai,adagj)\n",
    "\n",
    "Heff = qt.Qobj(Heff)"
   ]
  },
  {
   "cell_type": "markdown",
   "metadata": {},
   "source": [
    "## Run the exact dynamics"
   ]
  },
  {
   "cell_type": "code",
   "execution_count": 23,
   "metadata": {},
   "outputs": [
    {
     "name": "stdout",
     "output_type": "stream",
     "text": [
      "5.316827602625748 0.6822863180060462 phase -1.0000000000378384\n"
     ]
    }
   ],
   "source": [
    "#get the T final \n",
    "Jcoupling = J_ij_paper(0,1)\n",
    "Jabs = np.abs(Jcoupling)*10**3#MHz\n",
    "tfinal = 2*np.pi/(Jabs)/np.sqrt(3)#\\mu s\n",
    "tlist = np.arange(0, tfinal, .001)\n",
    "print(tfinal, Jabs,'phase',np.angle(Jcoupling)*6/np.pi)\n",
    "\n",
    "#propagators\n",
    "Uexact = (-1j*Hexact*tlist[1]*10**3).expm()\n",
    "Ueff = (-1j*Heff*tlist[1]*10**3).expm()\n",
    "#number operators\n",
    "n_list = [np.dot(adag,a) for adag,a in zip(all_a_dag,all_a)]\n",
    "neff_list = [np.dot(adag,a) for adag,a in zip(all_a_dag_eff,all_a_eff)]\n",
    "n_list = [qt.Qobj(n) for n in n_list]\n",
    "neff_list = [qt.Qobj(n) for n in neff_list]\n",
    "\n",
    "#initial states\n",
    "psi0 = qt.basis(total_space,1)\n",
    "psi0eff = qt.basis(total_space_eff,1)\n",
    "psit = psi0.copy()\n",
    "psiteff = psi0eff.copy()"
   ]
  },
  {
   "cell_type": "code",
   "execution_count": 24,
   "metadata": {},
   "outputs": [
    {
     "name": "stderr",
     "output_type": "stream",
     "text": [
      "100%|██████████| 5317/5317 [00:03<00:00, 1561.58it/s]\n"
     ]
    }
   ],
   "source": [
    "expect_vals, expect_vals_eff = [], []\n",
    "for t in tqdm(tlist):\n",
    "    exp_t, exp_t_eff = [], []\n",
    "    for i in range(3):\n",
    "        exp_t.append(qt.expect(n_list[i],psit))\n",
    "        exp_t_eff.append(qt.expect(neff_list[i],psiteff))\n",
    "    psit = Uexact*psit\n",
    "    psiteff = Ueff*psiteff\n",
    "    expect_vals.append(exp_t)\n",
    "    expect_vals_eff.append(exp_t_eff)\n",
    "\n",
    "expect_vals = np.array(expect_vals)\n",
    "expect_vals_eff = np.array(expect_vals_eff)\n"
   ]
  },
  {
   "cell_type": "markdown",
   "metadata": {},
   "source": [
    "# Plotting"
   ]
  },
  {
   "cell_type": "code",
   "execution_count": 25,
   "metadata": {},
   "outputs": [
    {
     "name": "stdout",
     "output_type": "stream",
     "text": [
      "Ej/Ec 169.86434525942934\n"
     ]
    },
    {
     "data": {
      "image/png": "[encoded data removed]",
      "text/plain": [
       "<Figure size 640x480 with 1 Axes>"
      ]
     },
     "metadata": {},
     "output_type": "display_data"
    }
   ],
   "source": [
    "fig, ax = plt.subplots()\n",
    "ax.plot(tlist, expect_vals_eff[:,0], label='n0',linestyle=(0, (6, 4)),color='red')\n",
    "ax.plot(tlist, expect_vals_eff[:,1], label='n1',linestyle=(0, (6, 4)),color='blue')\n",
    "ax.plot(tlist, expect_vals_eff[:,2], label='n2',linestyle=(0, (6, 4)),color='green')\n",
    "ax.plot(tlist, expect_vals[:,0], label='n0',color='red',linestyle=(0, (20, 0)))\n",
    "ax.plot(tlist, expect_vals[:,1], label='n1',color='blue',linestyle=(0, (20, 0)))\n",
    "ax.plot(tlist, expect_vals[:,2], label='n2',color='green',linestyle=(0, (20, 0)))\n",
    "\n",
    "ax.set_xlim(0,tlist[-1])\n",
    "print('Ej/Ec',Ej/Ec)"
   ]
  },
  {
   "cell_type": "code",
   "execution_count": null,
   "metadata": {},
   "outputs": [],
   "source": []
  },
  {
   "cell_type": "code",
   "execution_count": null,
   "metadata": {},
   "outputs": [],
   "source": []
  }
 ],
 "metadata": {
  "kernelspec": {
   "display_name": "Python 3",
   "language": "python",
   "name": "python3"
  },
  "language_info": {
   "codemirror_mode": {
    "name": "ipython",
    "version": 3
   },
   "file_extension": ".py",
   "mimetype": "text/x-python",
   "name": "python",
   "nbconvert_exporter": "python",
   "pygments_lexer": "ipython3",
   "version": "3.1.-1"
  }
 },
 "nbformat": 4,
 "nbformat_minor": 2
}
